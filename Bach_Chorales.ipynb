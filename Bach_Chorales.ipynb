{
  "nbformat": 4,
  "nbformat_minor": 0,
  "metadata": {
    "colab": {
      "name": "Bach Chorales",
      "provenance": [],
      "collapsed_sections": [],
      "authorship_tag": "ABX9TyOQynmRKBTnJIgqy15SJHsG",
      "include_colab_link": true
    },
    "kernelspec": {
      "name": "python3",
      "display_name": "Python 3"
    },
    "language_info": {
      "name": "python"
    }
  },
  "cells": [
    {
      "cell_type": "markdown",
      "metadata": {
        "id": "view-in-github",
        "colab_type": "text"
      },
      "source": [
        "<a href=\"https://colab.research.google.com/github/chaudharynidhi/Bach-Chorales-Analysis/blob/master/Bach_Chorales.ipynb\" target=\"_parent\"><img src=\"https://colab.research.google.com/assets/colab-badge.svg\" alt=\"Open In Colab\"/></a>"
      ]
    },
    {
      "cell_type": "code",
      "metadata": {
        "id": "8KtHNcTNoVQl"
      },
      "source": [
        "import tensorflow as tf\n",
        "from tensorflow import keras\n",
        "import numpy as np\n",
        "import pandas as pd\n",
        "from pathlib import Path"
      ],
      "execution_count": 1,
      "outputs": []
    },
    {
      "cell_type": "code",
      "metadata": {
        "id": "iuY-vsyyoVIK"
      },
      "source": [
        "DOWNLOAD_ROOT = \"https://github.com/ageron/handson-ml2/raw/master/datasets/jsb_chorales/\"\n",
        "FILENAME = \"jsb_chorales.tgz\""
      ],
      "execution_count": 2,
      "outputs": []
    },
    {
      "cell_type": "code",
      "metadata": {
        "id": "YQS3fJMarQIs",
        "colab": {
          "base_uri": "https://localhost:8080/"
        },
        "outputId": "5d94fc43-9b89-41c6-da67-3e026e82630a"
      },
      "source": [
        "filepath = keras.utils.get_file(FILENAME, DOWNLOAD_ROOT+FILENAME, extract=True,\n",
        "                                cache_subdir='datasets/jsb_chorales')"
      ],
      "execution_count": 3,
      "outputs": [
        {
          "output_type": "stream",
          "text": [
            "Downloading data from https://github.com/ageron/handson-ml2/raw/master/datasets/jsb_chorales/jsb_chorales.tgz\n",
            "122880/117661 [===============================] - 0s 0us/step\n"
          ],
          "name": "stdout"
        }
      ]
    },
    {
      "cell_type": "code",
      "metadata": {
        "colab": {
          "base_uri": "https://localhost:8080/",
          "height": 35
        },
        "id": "8z476v7Krof2",
        "outputId": "5eee8c93-2f13-4484-cee5-109882e6725a"
      },
      "source": [
        "filepath"
      ],
      "execution_count": 4,
      "outputs": [
        {
          "output_type": "execute_result",
          "data": {
            "application/vnd.google.colaboratory.intrinsic+json": {
              "type": "string"
            },
            "text/plain": [
              "'/root/.keras/datasets/jsb_chorales/jsb_chorales.tgz'"
            ]
          },
          "metadata": {
            "tags": []
          },
          "execution_count": 4
        }
      ]
    },
    {
      "cell_type": "code",
      "metadata": {
        "id": "Jkiv0iPWsF8C"
      },
      "source": [
        "jsb_chorales_dir = Path(filepath).parent"
      ],
      "execution_count": 5,
      "outputs": []
    },
    {
      "cell_type": "code",
      "metadata": {
        "colab": {
          "base_uri": "https://localhost:8080/"
        },
        "id": "xeTqYEDgsrIj",
        "outputId": "a713e81e-c9fe-451e-bdb9-a00fa739570e"
      },
      "source": [
        "jsb_chorales_dir"
      ],
      "execution_count": 6,
      "outputs": [
        {
          "output_type": "execute_result",
          "data": {
            "text/plain": [
              "PosixPath('/root/.keras/datasets/jsb_chorales')"
            ]
          },
          "metadata": {
            "tags": []
          },
          "execution_count": 6
        }
      ]
    },
    {
      "cell_type": "code",
      "metadata": {
        "id": "R0YnttK4stDh"
      },
      "source": [
        "train_files = sorted(jsb_chorales_dir.glob('train/chorale_*.csv'))\n",
        "valid_files = sorted(jsb_chorales_dir.glob('valid/chorale_*.csv'))\n",
        "test_files = sorted(jsb_chorales_dir.glob('test/chorale_*.csv'))"
      ],
      "execution_count": 7,
      "outputs": []
    },
    {
      "cell_type": "code",
      "metadata": {
        "id": "2eytNo5vtUAo"
      },
      "source": [
        "def chorale_load(filepaths):\n",
        "  return [pd.read_csv(filepath).values.tolist() for filepath in filepaths]"
      ],
      "execution_count": 8,
      "outputs": []
    },
    {
      "cell_type": "code",
      "metadata": {
        "id": "OgxshFjPuj1N"
      },
      "source": [
        "train_data = chorale_load(train_files)\n",
        "test_data = chorale_load(test_files)\n",
        "valid_data = chorale_load(valid_files)"
      ],
      "execution_count": 9,
      "outputs": []
    },
    {
      "cell_type": "code",
      "metadata": {
        "colab": {
          "base_uri": "https://localhost:8080/"
        },
        "id": "PG3Tohgxu79R",
        "outputId": "a0dcc4f7-1516-4dd6-cf6e-bba0308816ef"
      },
      "source": [
        "notes = set()\n",
        "for chorales in (train_data, test_data, valid_data):\n",
        "  for chorale in chorales:\n",
        "    for chord in chorale:\n",
        "      notes |= set(chord)\n",
        "\n",
        "n_chords = len(notes)\n",
        "min_chord = min(notes-{0})\n",
        "max_chords = max(notes)\n",
        "len(chorales)"
      ],
      "execution_count": 10,
      "outputs": [
        {
          "output_type": "execute_result",
          "data": {
            "text/plain": [
              "76"
            ]
          },
          "metadata": {
            "tags": []
          },
          "execution_count": 10
        }
      ]
    },
    {
      "cell_type": "code",
      "metadata": {
        "id": "uafFlD5tyPxh"
      },
      "source": [
        "assert min_chord==36\n",
        "assert max_chords==81"
      ],
      "execution_count": 11,
      "outputs": []
    },
    {
      "cell_type": "code",
      "metadata": {
        "id": "bxmbLedUYtwE"
      },
      "source": [
        "def preprocess(window):\n",
        "  window = tf.where(window==0, window, window-min_chord+1)\n",
        "  #print(window.shape)\n",
        "  window=tf.reshape(window,[-1])\n",
        "  #print(window.shape)\n",
        "  return window\n",
        "\n",
        "def create_target(batch):\n",
        "  X = batch[:, :-1]\n",
        "  y = batch[:, 1:]\n",
        "  return X,y\n",
        "\n",
        "def batch_dataset(chorales, batch_size=32, shuffle_buffer_size=None, window_size=32, window_shift=16, cache=True):\n",
        "  def batch_window(window):\n",
        "    return window.batch(window_size+1)\n",
        "  \n",
        "  def to_windows(chorales):\n",
        "    dataset = tf.data.Dataset.from_tensor_slices(chorales)\n",
        "    dataset = dataset.window(window_size+1, window_shift, drop_remainder=True)\n",
        "    return dataset.flat_map(batch_window)\n",
        "\n",
        "  chorales = tf.ragged.constant(chorales, ragged_rank=1)\n",
        "  dataset = tf.data.Dataset.from_tensor_slices(chorales)\n",
        "  dataset = dataset.flat_map(to_windows).map(preprocess)\n",
        "\n",
        "  if cache:\n",
        "    dataset = dataset.cache()\n",
        "  if shuffle_buffer_size:\n",
        "    dataset = dataset.shuffle(shuffle_buffer_size)\n",
        "  dataset=dataset.batch(batch_size)\n",
        "  dataset=dataset.map(create_target)\n",
        "  return dataset.prefetch(1)"
      ],
      "execution_count": 12,
      "outputs": []
    },
    {
      "cell_type": "code",
      "metadata": {
        "id": "a1zDF0gXlPly"
      },
      "source": [
        "train = batch_dataset(train_data, shuffle_buffer_size=1000)"
      ],
      "execution_count": 13,
      "outputs": []
    },
    {
      "cell_type": "code",
      "metadata": {
        "id": "6b3OCDvYyJG7"
      },
      "source": [
        "test = batch_dataset(test_data)\n",
        "valid = batch_dataset(valid_data)"
      ],
      "execution_count": 14,
      "outputs": []
    },
    {
      "cell_type": "code",
      "metadata": {
        "id": "XxuhAZ0d0N7l"
      },
      "source": [
        "n_embeddings = 5"
      ],
      "execution_count": 15,
      "outputs": []
    },
    {
      "cell_type": "code",
      "metadata": {
        "id": "AUmfgBHt0_jN"
      },
      "source": [
        "model= keras.models.Sequential([\n",
        "                                keras.layers.Embedding(input_dim=n_chords, output_dim=n_embeddings, input_shape=[None]),\n",
        "                                keras.layers.Conv1D(16, kernel_size=4, padding='causal', activation='relu'),\n",
        "                                keras.layers.BatchNormalization(),\n",
        "                                keras.layers.Conv1D(32, kernel_size=4, padding='causal', activation='relu'),\n",
        "                                keras.layers.BatchNormalization(),\n",
        "                                keras.layers.Conv1D(64, kernel_size=4, padding='causal', activation='relu'),\n",
        "                                keras.layers.BatchNormalization(),\n",
        "                                keras.layers.Conv1D(128, kernel_size=4, padding='causal', activation='relu'),\n",
        "                                keras.layers.BatchNormalization(),\n",
        "                                keras.layers.LSTM(256, return_sequences=True ),\n",
        "                                keras.layers.Dense(n_chords, activation='softmax')\n",
        "])"
      ],
      "execution_count": 16,
      "outputs": []
    },
    {
      "cell_type": "code",
      "metadata": {
        "id": "bYQnwwZcj3SD"
      },
      "source": [
        "model.compile(optimizer='adam', loss='sparse_categorical_crossentropy', metrics=['accuracy'])"
      ],
      "execution_count": 17,
      "outputs": []
    },
    {
      "cell_type": "code",
      "metadata": {
        "colab": {
          "base_uri": "https://localhost:8080/"
        },
        "id": "13NE9OfVkPcG",
        "outputId": "f6266afd-36f7-43d4-c5b9-4de4327f8641"
      },
      "source": [
        "history = model.fit(train, epochs=20, validation_data=valid)"
      ],
      "execution_count": 18,
      "outputs": [
        {
          "output_type": "stream",
          "text": [
            "Epoch 1/20\n",
            "98/98 [==============================] - 72s 699ms/step - loss: 1.8202 - accuracy: 0.5373 - val_loss: 4.4182 - val_accuracy: 0.0778\n",
            "Epoch 2/20\n",
            "98/98 [==============================] - 62s 631ms/step - loss: 0.9151 - accuracy: 0.7630 - val_loss: 5.2881 - val_accuracy: 0.0691\n",
            "Epoch 3/20\n",
            "98/98 [==============================] - 62s 632ms/step - loss: 0.7842 - accuracy: 0.7868 - val_loss: 4.3899 - val_accuracy: 0.0856\n",
            "Epoch 4/20\n",
            "98/98 [==============================] - 62s 633ms/step - loss: 0.7088 - accuracy: 0.8009 - val_loss: 3.2688 - val_accuracy: 0.1318\n",
            "Epoch 5/20\n",
            "98/98 [==============================] - 62s 634ms/step - loss: 0.6530 - accuracy: 0.8123 - val_loss: 2.0194 - val_accuracy: 0.3122\n",
            "Epoch 6/20\n",
            "98/98 [==============================] - 65s 661ms/step - loss: 0.6080 - accuracy: 0.8221 - val_loss: 0.9792 - val_accuracy: 0.7120\n",
            "Epoch 7/20\n",
            "98/98 [==============================] - 63s 645ms/step - loss: 0.5672 - accuracy: 0.8316 - val_loss: 0.7239 - val_accuracy: 0.7923\n",
            "Epoch 8/20\n",
            "98/98 [==============================] - 64s 655ms/step - loss: 0.5298 - accuracy: 0.8400 - val_loss: 0.6584 - val_accuracy: 0.8104\n",
            "Epoch 9/20\n",
            "98/98 [==============================] - 62s 635ms/step - loss: 0.4934 - accuracy: 0.8489 - val_loss: 0.6376 - val_accuracy: 0.8134\n",
            "Epoch 10/20\n",
            "98/98 [==============================] - 64s 654ms/step - loss: 0.4600 - accuracy: 0.8577 - val_loss: 0.6275 - val_accuracy: 0.8168\n",
            "Epoch 11/20\n",
            "98/98 [==============================] - 63s 644ms/step - loss: 0.4293 - accuracy: 0.8664 - val_loss: 0.6253 - val_accuracy: 0.8163\n",
            "Epoch 12/20\n",
            "98/98 [==============================] - 63s 646ms/step - loss: 0.4029 - accuracy: 0.8743 - val_loss: 0.6268 - val_accuracy: 0.8169\n",
            "Epoch 13/20\n",
            "98/98 [==============================] - 65s 662ms/step - loss: 0.3812 - accuracy: 0.8809 - val_loss: 0.6367 - val_accuracy: 0.8149\n",
            "Epoch 14/20\n",
            "98/98 [==============================] - 63s 639ms/step - loss: 0.3609 - accuracy: 0.8868 - val_loss: 0.6330 - val_accuracy: 0.8181\n",
            "Epoch 15/20\n",
            "98/98 [==============================] - 64s 652ms/step - loss: 0.3429 - accuracy: 0.8923 - val_loss: 0.6345 - val_accuracy: 0.8172\n",
            "Epoch 16/20\n",
            "98/98 [==============================] - 64s 649ms/step - loss: 0.3208 - accuracy: 0.8991 - val_loss: 0.6478 - val_accuracy: 0.8168\n",
            "Epoch 17/20\n",
            "98/98 [==============================] - 64s 650ms/step - loss: 0.3062 - accuracy: 0.9038 - val_loss: 0.6489 - val_accuracy: 0.8164\n",
            "Epoch 18/20\n",
            "98/98 [==============================] - 64s 649ms/step - loss: 0.2917 - accuracy: 0.9079 - val_loss: 0.6578 - val_accuracy: 0.8140\n",
            "Epoch 19/20\n",
            "98/98 [==============================] - 63s 648ms/step - loss: 0.2768 - accuracy: 0.9127 - val_loss: 0.6665 - val_accuracy: 0.8145\n",
            "Epoch 20/20\n",
            "98/98 [==============================] - 63s 642ms/step - loss: 0.2623 - accuracy: 0.9176 - val_loss: 0.6686 - val_accuracy: 0.8149\n"
          ],
          "name": "stdout"
        }
      ]
    },
    {
      "cell_type": "code",
      "metadata": {
        "id": "se79w08Vkgqc"
      },
      "source": [
        "import matplotlib.pyplot as plt\n"
      ],
      "execution_count": null,
      "outputs": []
    },
    {
      "cell_type": "code",
      "metadata": {
        "colab": {
          "base_uri": "https://localhost:8080/"
        },
        "id": "28abWoUK0wpA",
        "outputId": "7fced844-bc9e-4acc-aa05-925a863a3a16"
      },
      "source": [
        "plt.plot(history.history['accuracy'])\n",
        "plt.plot(history.history['val_accuracy'])"
      ],
      "execution_count": null,
      "outputs": [
        {
          "output_type": "execute_result",
          "data": {
            "text/plain": [
              "[<matplotlib.lines.Line2D at 0x7fd56e3d15d0>]"
            ]
          },
          "metadata": {
            "tags": []
          },
          "execution_count": 20
        },
        {
          "output_type": "display_data",
          "data": {
            "image/png": "[encoded data removed]",
            "text/plain": [
              "<Figure size 432x288 with 1 Axes>"
            ]
          },
          "metadata": {
            "tags": [],
            "needs_background": "light"
          }
        }
      ]
    },
    {
      "cell_type": "code",
      "metadata": {
        "id": "Ooo9QvMs09MS",
        "colab": {
          "base_uri": "https://localhost:8080/"
        },
        "outputId": "9cf79c9e-a3eb-4fe4-df28-0f06d41e9f36"
      },
      "source": [
        "model.evaluate(test)"
      ],
      "execution_count": 19,
      "outputs": [
        {
          "output_type": "stream",
          "text": [
            "34/34 [==============================] - 5s 158ms/step - loss: 0.6778 - accuracy: 0.8139\n"
          ],
          "name": "stdout"
        },
        {
          "output_type": "execute_result",
          "data": {
            "text/plain": [
              "[0.6778232455253601, 0.8139035701751709]"
            ]
          },
          "metadata": {
            "tags": []
          },
          "execution_count": 19
        }
      ]
    },
    {
      "cell_type": "code",
      "metadata": {
        "id": "hJPeLpnRI8ka"
      },
      "source": [
        "model.save('bach_chorale.h5')"
      ],
      "execution_count": null,
      "outputs": []
    },
    {
      "cell_type": "code",
      "metadata": {
        "id": "i34mWnmRJBpl"
      },
      "source": [
        ""
      ],
      "execution_count": null,
      "outputs": []
    }
  ]
}